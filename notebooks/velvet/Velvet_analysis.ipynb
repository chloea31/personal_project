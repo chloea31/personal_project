{
 "cells": [
  {
   "cell_type": "markdown",
   "id": "36e70171-2938-4c97-89ee-196cdfccd232",
   "metadata": {},
   "source": [
    "# Genome assembly using Velvet\n",
    "\n",
    "## Definition of the problem\n",
    "\n",
    "The main goal of this part of the personal project is to practice and understand genome assembly using Velvet software. This latter uses short reads to build the genome (DNA) assembly by manipulating De Bruijn graphs.\n",
    "The data presented in this notebook come from the tutorial reported in the README.md file and represent a part of *Staphylococcus aureus* genome (197,394 bp). We consider paired-end reads from Illumina sequencing device with 19X coverage on average. Interest of PE sequencing: alignment facility and detection of structural variations. \n",
    "We previously performed a de novo assembly using Velvet assembler (see tutorial), using FASTQC, MULTIQC, velveth, velvetg and QUAST.\n",
    "In this notebook, we would like to perform analysis to discuss our results using different k values.\n",
    "\n",
    "## Problematic\n",
    "\n",
    "Which would be the effect(s) of different k values on the quality of genome assembly / contig lengths? Would there be other parameters that we could study to see how this genome assembly works and how to improve it?\n",
    "\n",
    "## Resolution approaches\n",
    "\n",
    "To answer this question, we will consider data from QUAST command line containing statistics on contigs. We will further perform statistical analysis of these datasets for different k values.\n",
    "\n",
    "## Parameters\n",
    "\n",
    "- k values (kmer lengths)\n",
    "\n",
    "## Import modules and load files"
   ]
  },
  {
   "cell_type": "code",
   "execution_count": 31,
   "id": "b3d2ff6f-1272-4561-b6ff-139a7ef6dbba",
   "metadata": {},
   "outputs": [
    {
     "name": "stdout",
     "output_type": "stream",
     "text": [
      "[{'tsv_path': '../../reports/velvet/quast/test_k_mers_31/report.tsv', 'tsv_name': 'report.tsv', 'kmers': 31}, {'tsv_path': '../../reports/velvet/quast/test_k_mers_35/report.tsv', 'tsv_name': 'report.tsv', 'kmers': 35}, {'tsv_path': '../../reports/velvet/quast/test_k_mers_39/report.tsv', 'tsv_name': 'report.tsv', 'kmers': 39}, {'tsv_path': '../../reports/velvet/quast/test_k_mers_43/report.tsv', 'tsv_name': 'report.tsv', 'kmers': 43}, {'tsv_path': '../../reports/velvet/quast/test_k_mers_47/report.tsv', 'tsv_name': 'report.tsv', 'kmers': 47}, {'tsv_path': '../../reports/velvet/quast/test_k_mers_51/report.tsv', 'tsv_name': 'report.tsv', 'kmers': 51}, {'tsv_path': '../../reports/velvet/quast/test_k_mers_55/report.tsv', 'tsv_name': 'report.tsv', 'kmers': 55}, {'tsv_path': '../../reports/velvet/quast/test_k_mers_59/report.tsv', 'tsv_name': 'report.tsv', 'kmers': 59}, {'tsv_path': '../../reports/velvet/quast/test_k_mers_63/report.tsv', 'tsv_name': 'report.tsv', 'kmers': 63}, {'tsv_path': '../../reports/velvet/quast/test_k_mers_67/report.tsv', 'tsv_name': 'report.tsv', 'kmers': 67}, {'tsv_path': '../../reports/velvet/quast/test_k_mers_71/report.tsv', 'tsv_name': 'report.tsv', 'kmers': 71}, {'tsv_path': '../../reports/velvet/quast/test_k_mers_75/report.tsv', 'tsv_name': 'report.tsv', 'kmers': 75}, {'tsv_path': '../../reports/velvet/quast/test_k_mers_79/report.tsv', 'tsv_name': 'report.tsv', 'kmers': 79}, {'tsv_path': '../../reports/velvet/quast/test_k_mers_83/report.tsv', 'tsv_name': 'report.tsv', 'kmers': 83}, {'tsv_path': '../../reports/velvet/quast/test_k_mers_87/report.tsv', 'tsv_name': 'report.tsv', 'kmers': 87}, {'tsv_path': '../../reports/velvet/quast/test_k_mers_91/report.tsv', 'tsv_name': 'report.tsv', 'kmers': 91}, {'tsv_path': '../../reports/velvet/quast/test_k_mers_95/report.tsv', 'tsv_name': 'report.tsv', 'kmers': 95}, {'tsv_path': '../../reports/velvet/quast/test_k_mers_99/report.tsv', 'tsv_name': 'report.tsv', 'kmers': 99}]\n"
     ]
    }
   ],
   "source": [
    "import numpy as np\n",
    "import pandas as pd\n",
    "import plotly.express as px\n",
    "from glob import glob\n",
    "import os\n",
    "\n",
    "# Load TSV files\n",
    "list_tsv = []\n",
    "\n",
    "folder_files = glob('../../reports/velvet/quast/test_k_mers_*/report.tsv')\n",
    "for folder_file in folder_files:\n",
    "    #print(folder_file)\n",
    "    if \"/\" in folder_file:\n",
    "        new_folder_file = folder_file.split(\"/\")[5]\n",
    "        if \"_\" in new_folder_file:\n",
    "            kmers = new_folder_file.split(\"_\")[3]\n",
    "    dict_tsv = {}\n",
    "    dict_tsv[\"tsv_path\"] = folder_file\n",
    "    dict_tsv[\"tsv_name\"] = os.path.basename(folder_file)\n",
    "    dict_tsv[\"kmers\"] = int(kmers)\n",
    "    list_tsv.append(dict_tsv)\n",
    "print(list_tsv)\n",
    "    \n",
    "#data_31 = pd.read_csv(\"../../reports/velvet/quast/test_k_mers_31/report.tsv\", sep = \"\\t\")\n",
    "#data_31.info()\n",
    "#data_31.head()"
   ]
  },
  {
   "cell_type": "code",
   "execution_count": null,
   "id": "f78bd494-15cc-402b-95de-58e2c00e4d91",
   "metadata": {},
   "outputs": [],
   "source": []
  }
 ],
 "metadata": {
  "kernelspec": {
   "display_name": "Python 3 (ipykernel)",
   "language": "python",
   "name": "python3"
  },
  "language_info": {
   "codemirror_mode": {
    "name": "ipython",
    "version": 3
   },
   "file_extension": ".py",
   "mimetype": "text/x-python",
   "name": "python",
   "nbconvert_exporter": "python",
   "pygments_lexer": "ipython3",
   "version": "3.10.13"
  }
 },
 "nbformat": 4,
 "nbformat_minor": 5
}
