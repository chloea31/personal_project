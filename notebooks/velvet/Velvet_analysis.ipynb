{
 "cells": [
  {
   "cell_type": "markdown",
   "id": "36e70171-2938-4c97-89ee-196cdfccd232",
   "metadata": {},
   "source": [
    "# Genome assembly using Velvet\n",
    "\n",
    "## Definition of the problem\n",
    "\n",
    "The main goal of this part of the personal project is to practice and understand genome assembly using Velvet software. This latter uses short reads to build the genome (DNA) assembly by manipulating De Bruijn graphs.\n",
    "The data presented in this notebook come from the tutorial reported in the README.md file and represent a part of *Staphylococcus aureus* genome (197,394 bp). We consider paired-end reads from Illumina sequencing device with 19X coverage on average. \n",
    "We previously performed a de novo assembly using Velvet assembler (see tutorial), using FASTQC, MULTIQC, velveth, velvetg and QUAST.\n",
    "In this notebook, we would like to perform analysis to discuss our results using different k values.\n",
    "\n",
    "## Problematic\n",
    "\n",
    "Which would be the effect(s) of different k values on the quality of genome assembly / contig lengths? Would there be other parameters that we could study to see how this genome assembly works and how to improve it?\n",
    "\n",
    "## Resolution approaches\n",
    "\n",
    "To answer this question, we will consider data from QUAST command line containing statistics on contigs. We will further perform statistical analysis of these datasets for different k values.\n",
    "\n",
    "## Parameters\n",
    "\n",
    "- k values (kmer lengths)\n",
    "\n",
    "## Import modules and load files"
   ]
  },
  {
   "cell_type": "code",
   "execution_count": 2,
   "id": "b3d2ff6f-1272-4561-b6ff-139a7ef6dbba",
   "metadata": {},
   "outputs": [
    {
     "name": "stdout",
     "output_type": "stream",
     "text": [
      "<class 'pandas.core.frame.DataFrame'>\n",
      "RangeIndex: 46 entries, 0 to 45\n",
      "Data columns (total 2 columns):\n",
      " #   Column    Non-Null Count  Dtype \n",
      "---  ------    --------------  ----- \n",
      " 0   Assembly  46 non-null     object\n",
      " 1   contigs   46 non-null     object\n",
      "dtypes: object(2)\n",
      "memory usage: 864.0+ bytes\n"
     ]
    },
    {
     "data": {
      "text/html": [
       "<div>\n",
       "<style scoped>\n",
       "    .dataframe tbody tr th:only-of-type {\n",
       "        vertical-align: middle;\n",
       "    }\n",
       "\n",
       "    .dataframe tbody tr th {\n",
       "        vertical-align: top;\n",
       "    }\n",
       "\n",
       "    .dataframe thead th {\n",
       "        text-align: right;\n",
       "    }\n",
       "</style>\n",
       "<table border=\"1\" class=\"dataframe\">\n",
       "  <thead>\n",
       "    <tr style=\"text-align: right;\">\n",
       "      <th></th>\n",
       "      <th>Assembly</th>\n",
       "      <th>contigs</th>\n",
       "    </tr>\n",
       "  </thead>\n",
       "  <tbody>\n",
       "    <tr>\n",
       "      <th>0</th>\n",
       "      <td># contigs (&gt;= 0 bp)</td>\n",
       "      <td>161</td>\n",
       "    </tr>\n",
       "    <tr>\n",
       "      <th>1</th>\n",
       "      <td># contigs (&gt;= 1000 bp)</td>\n",
       "      <td>41</td>\n",
       "    </tr>\n",
       "    <tr>\n",
       "      <th>2</th>\n",
       "      <td>Total length (&gt;= 0 bp)</td>\n",
       "      <td>186842</td>\n",
       "    </tr>\n",
       "    <tr>\n",
       "      <th>3</th>\n",
       "      <td>Total length (&gt;= 1000 bp)</td>\n",
       "      <td>170560</td>\n",
       "    </tr>\n",
       "    <tr>\n",
       "      <th>4</th>\n",
       "      <td># contigs</td>\n",
       "      <td>47</td>\n",
       "    </tr>\n",
       "  </tbody>\n",
       "</table>\n",
       "</div>"
      ],
      "text/plain": [
       "                    Assembly contigs\n",
       "0        # contigs (>= 0 bp)     161\n",
       "1     # contigs (>= 1000 bp)      41\n",
       "2     Total length (>= 0 bp)  186842\n",
       "3  Total length (>= 1000 bp)  170560\n",
       "4                  # contigs      47"
      ]
     },
     "execution_count": 2,
     "metadata": {},
     "output_type": "execute_result"
    }
   ],
   "source": [
    "import numpy as np\n",
    "import pandas as pd\n",
    "import plotly.express as px\n",
    "from glob import glob\n",
    "import os\n",
    "\n",
    "# Load TSV files\n",
    "list_tsv = []\n",
    "\n",
    "tsv_files = glob('../../reports/velvet/quast/test_k_mers_*/report.tsv')\n",
    "for tsv_file in tsv_files:\n",
    "    dict_tsv = {}\n",
    "    \n",
    "\n",
    "data_31 = pd.read_csv(\"../../reports/velvet/quast/test_k_mers_31/report.tsv\", sep = \"\\t\")\n",
    "data_31.info()\n",
    "data_31.head()"
   ]
  },
  {
   "cell_type": "code",
   "execution_count": null,
   "id": "f78bd494-15cc-402b-95de-58e2c00e4d91",
   "metadata": {},
   "outputs": [],
   "source": []
  }
 ],
 "metadata": {
  "kernelspec": {
   "display_name": "Python 3 (ipykernel)",
   "language": "python",
   "name": "python3"
  },
  "language_info": {
   "codemirror_mode": {
    "name": "ipython",
    "version": 3
   },
   "file_extension": ".py",
   "mimetype": "text/x-python",
   "name": "python",
   "nbconvert_exporter": "python",
   "pygments_lexer": "ipython3",
   "version": "3.10.13"
  }
 },
 "nbformat": 4,
 "nbformat_minor": 5
}
